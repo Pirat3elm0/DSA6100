{
 "cells": [
  {
   "cell_type": "markdown",
   "metadata": {},
   "source": [
    "Notes to consider: should do feature selection on a different dataset than you train on … the effect of not doing this is you will overfit your training data.\n"
   ]
  },
  {
   "cell_type": "markdown",
   "metadata": {},
   "source": [
    "This dataset is a list of business attributes for a given year and location (region/state).\n",
    "\n",
    "Feature selection, which columns attribute to job creation? job deaths?\n",
    "\n",
    "Predict Births (The number of jobs that were created because of firm births in the past year) from features"
   ]
  },
  {
   "cell_type": "code",
   "execution_count": 17,
   "metadata": {},
   "outputs": [
    {
     "name": "stdout",
     "output_type": "stream",
     "text": [
      "<class 'pandas.core.frame.DataFrame'>\n"
     ]
    },
    {
     "data": {
      "text/html": [
       "<div>\n",
       "<style>\n",
       "    .dataframe thead tr:only-child th {\n",
       "        text-align: right;\n",
       "    }\n",
       "\n",
       "    .dataframe thead th {\n",
       "        text-align: left;\n",
       "    }\n",
       "\n",
       "    .dataframe tbody tr th {\n",
       "        vertical-align: top;\n",
       "    }\n",
       "</style>\n",
       "<table border=\"1\" class=\"dataframe\">\n",
       "  <thead>\n",
       "    <tr style=\"text-align: right;\">\n",
       "      <th></th>\n",
       "      <th>Births</th>\n",
       "      <th>DHS Denominator</th>\n",
       "      <th>Deaths</th>\n",
       "      <th>Entered</th>\n",
       "      <th>Entered Rate</th>\n",
       "      <th>Establishment Exit</th>\n",
       "      <th>Exited</th>\n",
       "      <th>Exited Rate</th>\n",
       "      <th>Firm Exits.Count</th>\n",
       "      <th>Job Creation.Continuers</th>\n",
       "      <th>...</th>\n",
       "      <th>Job Destruction.Rate</th>\n",
       "      <th>Net Job Creation</th>\n",
       "      <th>Net Job Creation Rate</th>\n",
       "      <th>Number of Firms</th>\n",
       "      <th>Physical Locations</th>\n",
       "      <th>Rate/Births</th>\n",
       "      <th>Rate/Deaths</th>\n",
       "      <th>Reallocation Rate</th>\n",
       "      <th>State</th>\n",
       "      <th>Year</th>\n",
       "    </tr>\n",
       "  </thead>\n",
       "  <tbody>\n",
       "    <tr>\n",
       "      <th>0</th>\n",
       "      <td>89869</td>\n",
       "      <td>933909</td>\n",
       "      <td>58891</td>\n",
       "      <td>10634</td>\n",
       "      <td>17.2</td>\n",
       "      <td>5641</td>\n",
       "      <td>8057</td>\n",
       "      <td>13.1</td>\n",
       "      <td>5623</td>\n",
       "      <td>101653</td>\n",
       "      <td>...</td>\n",
       "      <td>15.5</td>\n",
       "      <td>46776</td>\n",
       "      <td>5.0</td>\n",
       "      <td>52371</td>\n",
       "      <td>62852</td>\n",
       "      <td>9.6</td>\n",
       "      <td>6.3</td>\n",
       "      <td>31.0</td>\n",
       "      <td>Alabama</td>\n",
       "      <td>1977</td>\n",
       "    </tr>\n",
       "    <tr>\n",
       "      <th>1</th>\n",
       "      <td>19259</td>\n",
       "      <td>108134</td>\n",
       "      <td>13504</td>\n",
       "      <td>2028</td>\n",
       "      <td>27.0</td>\n",
       "      <td>1039</td>\n",
       "      <td>1564</td>\n",
       "      <td>20.8</td>\n",
       "      <td>1035</td>\n",
       "      <td>18286</td>\n",
       "      <td>...</td>\n",
       "      <td>36.5</td>\n",
       "      <td>-1940</td>\n",
       "      <td>-1.8</td>\n",
       "      <td>6480</td>\n",
       "      <td>7725</td>\n",
       "      <td>17.8</td>\n",
       "      <td>12.5</td>\n",
       "      <td>69.4</td>\n",
       "      <td>Alaska</td>\n",
       "      <td>1977</td>\n",
       "    </tr>\n",
       "    <tr>\n",
       "      <th>2</th>\n",
       "      <td>70645</td>\n",
       "      <td>589552</td>\n",
       "      <td>45366</td>\n",
       "      <td>9379</td>\n",
       "      <td>22.0</td>\n",
       "      <td>4357</td>\n",
       "      <td>6230</td>\n",
       "      <td>14.6</td>\n",
       "      <td>4332</td>\n",
       "      <td>76781</td>\n",
       "      <td>...</td>\n",
       "      <td>19.9</td>\n",
       "      <td>29997</td>\n",
       "      <td>5.1</td>\n",
       "      <td>36477</td>\n",
       "      <td>44113</td>\n",
       "      <td>12.0</td>\n",
       "      <td>7.7</td>\n",
       "      <td>39.8</td>\n",
       "      <td>Arizona</td>\n",
       "      <td>1977</td>\n",
       "    </tr>\n",
       "    <tr>\n",
       "      <th>3</th>\n",
       "      <td>44527</td>\n",
       "      <td>529709</td>\n",
       "      <td>32531</td>\n",
       "      <td>7291</td>\n",
       "      <td>18.3</td>\n",
       "      <td>3994</td>\n",
       "      <td>5455</td>\n",
       "      <td>13.7</td>\n",
       "      <td>3970</td>\n",
       "      <td>75201</td>\n",
       "      <td>...</td>\n",
       "      <td>14.5</td>\n",
       "      <td>42803</td>\n",
       "      <td>8.1</td>\n",
       "      <td>35499</td>\n",
       "      <td>40702</td>\n",
       "      <td>8.4</td>\n",
       "      <td>6.1</td>\n",
       "      <td>29.0</td>\n",
       "      <td>Arkansas</td>\n",
       "      <td>1977</td>\n",
       "    </tr>\n",
       "    <tr>\n",
       "      <th>4</th>\n",
       "      <td>779164</td>\n",
       "      <td>6484959</td>\n",
       "      <td>488562</td>\n",
       "      <td>88187</td>\n",
       "      <td>20.7</td>\n",
       "      <td>39932</td>\n",
       "      <td>60589</td>\n",
       "      <td>14.2</td>\n",
       "      <td>39693</td>\n",
       "      <td>960214</td>\n",
       "      <td>...</td>\n",
       "      <td>16.7</td>\n",
       "      <td>656693</td>\n",
       "      <td>10.1</td>\n",
       "      <td>362887</td>\n",
       "      <td>438766</td>\n",
       "      <td>12.0</td>\n",
       "      <td>7.5</td>\n",
       "      <td>33.4</td>\n",
       "      <td>California</td>\n",
       "      <td>1977</td>\n",
       "    </tr>\n",
       "  </tbody>\n",
       "</table>\n",
       "<p>5 rows × 25 columns</p>\n",
       "</div>"
      ],
      "text/plain": [
       "   Births  DHS Denominator  Deaths  Entered  Entered Rate  Establishment Exit  \\\n",
       "0   89869           933909   58891    10634          17.2                5641   \n",
       "1   19259           108134   13504     2028          27.0                1039   \n",
       "2   70645           589552   45366     9379          22.0                4357   \n",
       "3   44527           529709   32531     7291          18.3                3994   \n",
       "4  779164          6484959  488562    88187          20.7               39932   \n",
       "\n",
       "   Exited  Exited Rate  Firm Exits.Count  Job Creation.Continuers  ...   \\\n",
       "0    8057         13.1              5623                   101653  ...    \n",
       "1    1564         20.8              1035                    18286  ...    \n",
       "2    6230         14.6              4332                    76781  ...    \n",
       "3    5455         13.7              3970                    75201  ...    \n",
       "4   60589         14.2             39693                   960214  ...    \n",
       "\n",
       "   Job Destruction.Rate  Net Job Creation  Net Job Creation Rate  \\\n",
       "0                  15.5             46776                    5.0   \n",
       "1                  36.5             -1940                   -1.8   \n",
       "2                  19.9             29997                    5.1   \n",
       "3                  14.5             42803                    8.1   \n",
       "4                  16.7            656693                   10.1   \n",
       "\n",
       "   Number of Firms  Physical Locations  Rate/Births  Rate/Deaths  \\\n",
       "0            52371               62852          9.6          6.3   \n",
       "1             6480                7725         17.8         12.5   \n",
       "2            36477               44113         12.0          7.7   \n",
       "3            35499               40702          8.4          6.1   \n",
       "4           362887              438766         12.0          7.5   \n",
       "\n",
       "   Reallocation Rate       State  Year  \n",
       "0               31.0     Alabama  1977  \n",
       "1               69.4      Alaska  1977  \n",
       "2               39.8     Arizona  1977  \n",
       "3               29.0    Arkansas  1977  \n",
       "4               33.4  California  1977  \n",
       "\n",
       "[5 rows x 25 columns]"
      ]
     },
     "execution_count": 17,
     "metadata": {},
     "output_type": "execute_result"
    }
   ],
   "source": [
    "import numpy as np\n",
    "import pandas as pd\n",
    "from matplotlib import pyplot as plt\n",
    "import seaborn as sns\n",
    "%matplotlib inline\n",
    "from sklearn.feature_selection import VarianceThreshold\n",
    "from sklearn.feature_selection import RFE, f_regression\n",
    "from sklearn.linear_model import (LinearRegression, Ridge, Lasso, RandomizedLasso)\n",
    "from sklearn.preprocessing import MinMaxScaler\n",
    "from sklearn.ensemble import RandomForestRegressor\n",
    "import operator\n",
    "\n",
    "records=pd.read_csv('data/business_dynamics.csv')\n",
    "records.head()"
   ]
  },
  {
   "cell_type": "code",
   "execution_count": 123,
   "metadata": {},
   "outputs": [
    {
     "name": "stdout",
     "output_type": "stream",
     "text": [
      "[ True  True  True  True  True  True  True  True  True  True  True  True\n",
      "  True  True  True  True  True  True  True  True  True  True  True  True]\n"
     ]
    }
   ],
   "source": [
    "records_noState=records.drop(['State'], axis=1)\n",
    "sel= VarianceThreshold(threshold=(0.8*(1-.8)))\n",
    "sel.fit_transform(records_noState)\n",
    "print(sel.get_support())"
   ]
  },
  {
   "cell_type": "markdown",
   "metadata": {},
   "source": [
    "Variance threshold only takes in continuous data. It removes any variable that has low variance, therefore would do little to help predict a value. In this case, all the columns in this data set have enough variation to be useful in calculating a predictor."
   ]
  },
  {
   "cell_type": "code",
   "execution_count": 107,
   "metadata": {},
   "outputs": [],
   "source": [
    "#Setting up the datasets to perform the feature selection on\n",
    "ranks_rfe={}\n",
    "ranks_rf={}\n",
    "job_creation=records_noState['Births'].values\n",
    "\n",
    "#Remove all text fields and the field you are predicting\n",
    "records_filtered=records_noState.drop(['Births'], axis=1)\n",
    "records_mtx=records_filtered.as_matrix()\n",
    "records_colnames=records_filtered.columns\n"
   ]
  },
  {
   "cell_type": "markdown",
   "metadata": {},
   "source": [
    "I first tried recursive feature selection. This method fits a model to the data with all the features at first, then calculates the importance of each feature in that model. It removes the feature that has the least importance in the model, then runs another model, this time with X-1 features. And so on. You can set the number of features you want it to select in the end, and the .ranking_ is based on when the feature was removed from the model."
   ]
  },
  {
   "cell_type": "code",
   "execution_count": 108,
   "metadata": {},
   "outputs": [
    {
     "name": "stdout",
     "output_type": "stream",
     "text": [
      "Fitting estimator with 23 features.\n",
      "Fitting estimator with 22 features.\n",
      "Fitting estimator with 21 features.\n",
      "Fitting estimator with 20 features.\n",
      "Fitting estimator with 19 features.\n",
      "Fitting estimator with 18 features.\n",
      "Fitting estimator with 17 features.\n",
      "Fitting estimator with 16 features.\n",
      "Fitting estimator with 15 features.\n",
      "Fitting estimator with 14 features.\n",
      "Fitting estimator with 13 features.\n",
      "Fitting estimator with 12 features.\n",
      "Fitting estimator with 11 features.\n",
      "Fitting estimator with 10 features.\n",
      "Fitting estimator with 9 features.\n",
      "Fitting estimator with 8 features.\n",
      "Fitting estimator with 7 features.\n",
      "Fitting estimator with 6 features.\n",
      "Fitting estimator with 5 features.\n",
      "Fitting estimator with 4 features.\n"
     ]
    },
    {
     "data": {
      "text/plain": [
       "RFE(estimator=LinearRegression(copy_X=True, fit_intercept=True, n_jobs=1, normalize=False),\n",
       "  n_features_to_select=3, step=1, verbose=3)"
      ]
     },
     "execution_count": 108,
     "metadata": {},
     "output_type": "execute_result"
    }
   ],
   "source": [
    "lr_records=LinearRegression()\n",
    "lr_records.fit(records_mtx,job_creation)\n",
    "rfe_records=RFE(lr_records, n_features_to_select=3, verbose=3)\n",
    "rfe_records.fit(records_mtx,job_creation)"
   ]
  },
  {
   "cell_type": "code",
   "execution_count": 111,
   "metadata": {},
   "outputs": [
    {
     "name": "stdout",
     "output_type": "stream",
     "text": [
      "[('Job Creation.Continuers', 1), ('Job Creation.Count', 1), ('Job Destruction.Count', 1), ('Net Job Creation', 2), ('Deaths', 3), ('Job Destruction.Continuers', 4), ('Exited Rate', 5), ('Job Creation.Rate', 6), ('Rate/Deaths', 7), ('Entered Rate', 8), ('Rate/Births', 9), ('Net Job Creation Rate', 10), ('Job Destruction.Rate', 11), ('Year', 12), ('Reallocation Rate', 13), ('Firm Exits.Count', 14), ('Establishment Exit', 15), ('Exited', 16), ('Entered', 17), ('Number of Firms', 18), ('Job Destruction', 19), ('Physical Locations', 20), ('DHS Denominator', 21)]\n"
     ]
    }
   ],
   "source": [
    "#With Recursive feature elimination, the rankings are lower the more important\n",
    "\n",
    "ranks_rfe=dict(zip(records_colnames, rfe_records.ranking_))\n",
    "ranks_rfe_sorted=sorted(ranks_rfe.items(), key=operator.itemgetter(1))\n",
    "print(ranks_rfe_sorted)\n"
   ]
  },
  {
   "cell_type": "markdown",
   "metadata": {},
   "source": [
    "RFE picked Job Creation.Continuers, Job Creation.Count, and Job Destruction.Count as the most important features when predicting Births (The number of jobs that were created because of firm births in the past year). Job Creation.Count should actually be removed because it seems like Births + Job Creation.Continuers would eaqual Job Creation.Count, so the two features would be collinear. Job Destruction.Count is an interesting feature, I assume it would be a negative relationship with Births. More on this when the model is created."
   ]
  },
  {
   "cell_type": "markdown",
   "metadata": {},
   "source": [
    "Random Forest is the second feature selection technique that I tried, to compare to the recursive feature selection results. Random Forest takes a random number of features with a random set of data from the training set and creates a model. It then calculates how important each feature in the model was, then runs another model, again with random number of features and data. It does this X number of times you tell it, then it compiles the importances of all the features into one output. In this case, the highest number is more important."
   ]
  },
  {
   "cell_type": "code",
   "execution_count": 128,
   "metadata": {},
   "outputs": [
    {
     "name": "stdout",
     "output_type": "stream",
     "text": [
      "building tree 1 of 100\n",
      "building tree 2 of 100\n",
      "building tree 3 of 100\n",
      "building tree 4 of 100\n",
      "building tree 5 of 100\n",
      "building tree 6 of 100\n",
      "building tree 7 of 100"
     ]
    },
    {
     "name": "stderr",
     "output_type": "stream",
     "text": [
      "[Parallel(n_jobs=1)]: Done   1 out of   1 | elapsed:    0.0s remaining:    0.0s\n",
      "[Parallel(n_jobs=1)]: Done   2 out of   2 | elapsed:    0.0s remaining:    0.0s\n"
     ]
    },
    {
     "name": "stdout",
     "output_type": "stream",
     "text": [
      "\n",
      "building tree 8 of 100\n",
      "building tree 9 of 100\n",
      "building tree 10 of 100\n",
      "building tree 11 of 100\n",
      "building tree 12 of 100\n",
      "building tree 13 of 100\n",
      "building tree 14 of 100\n",
      "building tree 15 of 100\n",
      "building tree 16 of 100\n",
      "building tree 17 of 100\n",
      "building tree 18 of 100\n",
      "building tree 19 of 100\n",
      "building tree 20 of 100\n",
      "building tree 21 of 100\n",
      "building tree 22 of 100\n",
      "building tree 23 of 100\n",
      "building tree 24 of 100\n",
      "building tree 25 of 100\n",
      "building tree 26 of 100\n",
      "building tree 27 of 100\n",
      "building tree 28 of 100\n",
      "building tree 29 of 100\n",
      "building tree 30 of 100\n",
      "building tree 31 of 100\n",
      "building tree 32 of 100\n",
      "building tree 33 of 100\n",
      "building tree 34 of 100\n",
      "building tree 35 of 100\n",
      "building tree 36 of 100\n",
      "building tree 37 of 100\n",
      "building tree 38 of 100\n",
      "building tree 39 of 100\n",
      "building tree 40 of 100\n",
      "building tree 41 of 100\n",
      "building tree 42 of 100\n",
      "building tree 43 of 100\n",
      "building tree 44 of 100\n",
      "building tree 45 of 100\n",
      "building tree 46 of 100\n",
      "building tree 47 of 100\n",
      "building tree 48 of 100\n",
      "building tree 49 of 100\n",
      "building tree 50 of 100\n",
      "building tree 51 of 100\n",
      "building tree 52 of 100\n",
      "building tree 53 of 100\n",
      "building tree 54 of 100\n",
      "building tree 55 of 100\n",
      "building tree 56 of 100\n",
      "building tree 57 of 100\n",
      "building tree 58 of 100\n",
      "building tree 59 of 100\n",
      "building tree 60 of 100\n",
      "building tree 61 of 100\n",
      "building tree 62 of 100\n",
      "building tree 63 of 100\n",
      "building tree 64 of 100\n",
      "building tree 65 of 100\n",
      "building tree 66 of 100\n",
      "building tree 67 of 100\n",
      "building tree 68 of 100\n",
      "building tree 69 of 100\n",
      "building tree 70 of 100\n",
      "building tree 71 of 100\n",
      "building tree 72 of 100\n",
      "building tree 73 of 100\n",
      "building tree 74 of 100\n",
      "building tree 75 of 100\n",
      "building tree 76 of 100\n",
      "building tree 77 of 100\n",
      "building tree 78 of 100\n",
      "building tree 79 of 100\n",
      "building tree 80 of 100\n",
      "building tree 81 of 100\n",
      "building tree 82 of 100\n",
      "building tree 83 of 100\n",
      "building tree 84 of 100\n",
      "building tree 85 of 100\n",
      "building tree 86 of 100\n",
      "building tree 87 of 100\n",
      "building tree 88 of 100\n",
      "building tree 89 of 100\n",
      "building tree 90 of 100\n",
      "building tree 91 of 100\n",
      "building tree 92 of 100\n",
      "building tree 93 of 100\n",
      "building tree 94 of 100\n",
      "building tree 95 of 100\n",
      "building tree 96 of 100\n",
      "building tree 97 of 100\n",
      "building tree 98 of 100\n",
      "building tree 99 of 100\n",
      "building tree 100 of 100\n"
     ]
    },
    {
     "name": "stderr",
     "output_type": "stream",
     "text": [
      "[Parallel(n_jobs=1)]: Done 100 out of 100 | elapsed:    3.2s finished\n"
     ]
    },
    {
     "data": {
      "text/plain": [
       "RandomForestRegressor(bootstrap=True, criterion='mse', max_depth=None,\n",
       "           max_features='auto', max_leaf_nodes=None,\n",
       "           min_impurity_decrease=0.0, min_impurity_split=None,\n",
       "           min_samples_leaf=1, min_samples_split=2,\n",
       "           min_weight_fraction_leaf=0.0, n_estimators=100, n_jobs=1,\n",
       "           oob_score=False, random_state=None, verbose=3, warm_start=False)"
      ]
     },
     "execution_count": 128,
     "metadata": {},
     "output_type": "execute_result"
    }
   ],
   "source": [
    "\n",
    "rf_records = RandomForestRegressor(n_estimators=100, verbose=3)\n",
    "rf_records.fit(records_mtx,job_creation)"
   ]
  },
  {
   "cell_type": "code",
   "execution_count": 129,
   "metadata": {},
   "outputs": [
    {
     "name": "stdout",
     "output_type": "stream",
     "text": [
      "[('Entered', '0.5891'), ('Job Creation.Count', '0.3679'), ('Exited', '0.0151'), ('Job Destruction', '0.0083'), ('Establishment Exit', '0.0069'), ('Deaths', '0.0025'), ('Job Destruction.Count', '0.0023'), ('Rate/Births', '0.0023'), ('Job Creation.Continuers', '0.0014'), ('Job Destruction.Rate', '0.0005'), ('Entered Rate', '0.0004'), ('Job Destruction.Continuers', '0.0004'), ('Rate/Deaths', '0.0004'), ('Reallocation Rate', '0.0004'), ('Year', '0.0004'), ('Exited Rate', '0.0003'), ('Net Job Creation', '0.0003'), ('DHS Denominator', '0.0002'), ('Job Creation.Rate', '0.0002'), ('Net Job Creation Rate', '0.0002'), ('Number of Firms', '0.0002'), ('Physical Locations', '0.0002'), ('Firm Exits.Count', '0.0001')]\n"
     ]
    }
   ],
   "source": [
    "#For Random Forest, the higher the number, the more important the feature is\n",
    "ranks_rf=dict(zip(records_colnames, [\"%.4f\" % i  for i in rf_records.feature_importances_]))\n",
    "ranks_rf_sorted=sorted(ranks_rf.items(), key=operator.itemgetter(1), reverse=True)\n",
    "print(ranks_rf_sorted)"
   ]
  },
  {
   "cell_type": "markdown",
   "metadata": {},
   "source": [
    "Random forest results indicate that Entered and Job Creation.Count have the most effect on Births. Then the importance values drop off significantly. I discussed Job Creation.Count above with RFE and why I wouldn't use it in a model to predict Births. Entered is an interesting field. It is the number of establishments that entered during 'this' time (I'm assuming during the year of the record). Entering occurs when an establishment did not exist in the previous year. If that's the case, this feature does not relate to  Births directly since the firms that entered were not a part of the firms that created jobs in the past year (Births). This could indicate that the general trend of firms entering the market is affecting the Births. That is assuming my interpretation of these columns is correct. What is also interesting is Entered was very low on the RFE analysis. How can the two methods reveal so different results?"
   ]
  },
  {
   "cell_type": "markdown",
   "metadata": {},
   "source": [
    "Questions:\n",
    "1) Is 0.3679 and 0.0151 really that different between RF results? How much is a big difference?\n",
    "2) How can the two feature selection methods reveal so different results with the feature Entered?\n"
   ]
  }
 ],
 "metadata": {
  "kernelspec": {
   "display_name": "Python 3",
   "language": "python",
   "name": "python3"
  }
 },
 "nbformat": 4,
 "nbformat_minor": 2
}
